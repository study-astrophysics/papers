{
 "cells": [
  {
   "cell_type": "markdown",
   "id": "55747a2a",
   "metadata": {},
   "source": [
    "# Title: Powerful Outflows and Feedback from Active Galactic Nuclei"
   ]
  },
  {
   "cell_type": "markdown",
   "id": "0f8e6354",
   "metadata": {},
   "source": [
    "### Authors: Andrew King and Ken Pounds"
   ]
  },
  {
   "cell_type": "markdown",
   "id": "b2ab7ef4",
   "metadata": {},
   "source": [
    "## [Annu. Rev. Astron. Astrophys. 2015. 53:115-54](https://www.annualreviews.org/doi/abs/10.1146/annurev-astro-082214-122316)"
   ]
  },
  {
   "cell_type": "markdown",
   "id": "8e3dd9fe",
   "metadata": {},
   "source": [
    "## Abstract"
   ]
  },
  {
   "cell_type": "markdown",
   "id": "1474374e",
   "metadata": {},
   "source": [
    "- Wind\n",
    " - powerful, highly ionized, ~ 0.1-0.2 c\n",
    " - episodic and detectable only a few % of its lifetime\n",
    "\n",
    "- M-$\\sigma$ relation\n",
    " - At feedback is more energetic & widespread\n",
    " - below: feedback is confined"
   ]
  },
  {
   "cell_type": "markdown",
   "id": "6e47a756",
   "metadata": {},
   "source": [
    "## 1. Introduction"
   ]
  },
  {
   "cell_type": "markdown",
   "id": "1125f1ce",
   "metadata": {},
   "source": [
    "### 1.1 Supermassive Black Hole Scaling Relations"
   ]
  },
  {
   "cell_type": "markdown",
   "id": "0d31324d",
   "metadata": {},
   "source": [
    "In recent years, it has become clear that the mass $M$ of the hole correlates strongly with physical properties of the host galaxy."
   ]
  },
  {
   "cell_type": "markdown",
   "id": "d42e21ab",
   "metadata": {},
   "source": [
    "#### Generally,\n",
    "\n",
    "$$ \\large M \\sim 10^{-3} M_b $$\n",
    "\n",
    "where\n",
    "\n",
    "- $M_b$: stellar bulge mass\n",
    "\n",
    "(Haring & Rix 2004)"
   ]
  },
  {
   "cell_type": "markdown",
   "id": "4b3215bd",
   "metadata": {},
   "source": [
    "#### Observationally,\n",
    "\n",
    "$$ \\large M \\simeq 3 \\times 10^8 M_\\odot \\sigma^\\alpha_{200} $$\n",
    "\n",
    "where\n",
    "\n",
    "- $\\sigma = 200 \\sigma_{200} \\text{ km s}^{-1}$: velocity dispersion of the host galaxy's central bulge\n",
    " - $\\alpha \\simeq 4.4 \\pm 0.3$\n",
    "\n",
    "(Ferrarese & Merritt 2000, Gebhardt et al. 2000; see Kormendy & Ho 2013 for a recent review)\n",
    "\n",
    "Also, it may be used to determine a maximum SMBH mass."
   ]
  },
  {
   "cell_type": "markdown",
   "id": "5119d469",
   "metadata": {},
   "source": [
    "#### Practically,\n",
    "\n",
    "$$ \\large M \\simeq 2 \\times 10^7 M_\\odot \\sigma^\\alpha_{100} $$\n",
    "\n",
    "where\n",
    "\n",
    "- $\\sigma = 100 \\sigma_{100} \\text{ km s}^{-1}$"
   ]
  },
  {
   "cell_type": "markdown",
   "id": "4a6c2c17",
   "metadata": {},
   "source": [
    "#### Determining the SMBH mass by resolving its sphere of influence\n",
    "\n",
    "$$ \\large R_{\\text{inf}} \\simeq \\frac{GM}{\\sigma^2} \\simeq 8 \\frac{M_8}{\\sigma^2_{200}} \\text{pc} \\simeq 3 \\frac{M_7}{\\sigma^2_{100}} \\text{pc} $$\n",
    "\n",
    "where\n",
    "\n",
    "- $M = 10^8 M_8 M_\\odot = 10^7 M_7 M_\\odot$"
   ]
  },
  {
   "cell_type": "markdown",
   "id": "2a5b9901",
   "metadata": {},
   "source": [
    "### 1.2 Binding Energies"
   ]
  },
  {
   "cell_type": "code",
   "execution_count": null,
   "id": "06514047",
   "metadata": {},
   "outputs": [],
   "source": []
  }
 ],
 "metadata": {
  "kernelspec": {
   "display_name": "Python 3 (ipykernel)",
   "language": "python",
   "name": "python3"
  },
  "language_info": {
   "codemirror_mode": {
    "name": "ipython",
    "version": 3
   },
   "file_extension": ".py",
   "mimetype": "text/x-python",
   "name": "python",
   "nbconvert_exporter": "python",
   "pygments_lexer": "ipython3",
   "version": "3.8.2"
  }
 },
 "nbformat": 4,
 "nbformat_minor": 5
}
