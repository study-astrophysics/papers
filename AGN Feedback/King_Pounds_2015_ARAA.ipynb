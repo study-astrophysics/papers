{
 "cells": [
  {
   "cell_type": "markdown",
   "id": "55747a2a",
   "metadata": {},
   "source": [
    "# Title: Powerful Outflows and Feedback from Active Galactic Nuclei"
   ]
  },
  {
   "cell_type": "markdown",
   "id": "0f8e6354",
   "metadata": {},
   "source": [
    "### Authors: Andrew King and Ken Pounds"
   ]
  },
  {
   "cell_type": "markdown",
   "id": "b2ab7ef4",
   "metadata": {},
   "source": [
    "### Citation: [King and Pounds 2015, ARAA](https://www.annualreviews.org/doi/abs/10.1146/annurev-astro-082214-122316)"
   ]
  },
  {
   "cell_type": "markdown",
   "id": "8e3dd9fe",
   "metadata": {},
   "source": [
    "# Abstract"
   ]
  },
  {
   "cell_type": "markdown",
   "id": "1474374e",
   "metadata": {},
   "source": [
    "- Wind\n",
    " - powerful, highly ionized, ~ 0.1-0.2 c\n",
    " - episodic and detectable only a few % of its lifetime\n",
    "\n",
    "- M-$\\sigma$ relation\n",
    " - At feedback is more energetic & widespread\n",
    " - below: feedback is confined"
   ]
  },
  {
   "cell_type": "markdown",
   "id": "6e47a756",
   "metadata": {},
   "source": [
    "# 1. Introduction"
   ]
  },
  {
   "cell_type": "markdown",
   "id": "1125f1ce",
   "metadata": {},
   "source": [
    "## 1.1 Supermassive Black Hole Scaling Relations"
   ]
  },
  {
   "cell_type": "markdown",
   "id": "0d31324d",
   "metadata": {},
   "source": [
    "In recent years, it has become clear that the mass $M$ of the hole correlates strongly with physical properties of the host galaxy."
   ]
  },
  {
   "cell_type": "markdown",
   "id": "d42e21ab",
   "metadata": {},
   "source": [
    "#### Generally,\n",
    "\n",
    "$$ \\large M \\sim 10^{-3} M_b $$\n",
    "\n",
    "where\n",
    "\n",
    "- $M_b$: stellar bulge mass\n",
    "\n",
    "(Haring & Rix 2004)"
   ]
  },
  {
   "cell_type": "markdown",
   "id": "4b3215bd",
   "metadata": {},
   "source": [
    "#### Observationally,\n",
    "\n",
    "$$ \\large M \\simeq 3 \\times 10^8 M_\\odot \\sigma^\\alpha_{200} $$\n",
    "\n",
    "where\n",
    "\n",
    "- $\\sigma = 200 \\sigma_{200} \\text{ km s}^{-1}$: velocity dispersion of the host galaxy's central bulge\n",
    " - $\\alpha \\simeq 4.4 \\pm 0.3$\n",
    "\n",
    "(Ferrarese & Merritt 2000, Gebhardt et al. 2000; see Kormendy & Ho 2013 for a recent review)\n",
    "\n",
    "Also, it may be used to determine a maximum SMBH mass."
   ]
  },
  {
   "cell_type": "markdown",
   "id": "5119d469",
   "metadata": {},
   "source": [
    "#### Practically,\n",
    "\n",
    "$$ \\large M \\simeq 2 \\times 10^7 M_\\odot \\sigma^\\alpha_{100} $$\n",
    "\n",
    "where\n",
    "\n",
    "- $\\sigma = 100 \\sigma_{100} \\text{ km s}^{-1}$"
   ]
  },
  {
   "cell_type": "markdown",
   "id": "4a6c2c17",
   "metadata": {},
   "source": [
    "#### Determining the SMBH mass by resolving its sphere of influence\n",
    "\n",
    "$$ \\large R_{\\text{inf}} \\simeq \\frac{GM}{\\sigma^2} \\simeq 8 \\frac{M_8}{\\sigma^2_{200}} \\text{pc} \\simeq 3 \\frac{M_7}{\\sigma^2_{100}} \\text{pc} $$\n",
    "\n",
    "where\n",
    "\n",
    "- $M = 10^8 M_8 M_\\odot = 10^7 M_7 M_\\odot$"
   ]
  },
  {
   "cell_type": "markdown",
   "id": "2a5b9901",
   "metadata": {},
   "source": [
    "## 1.2 Binding Energies"
   ]
  },
  {
   "cell_type": "markdown",
   "id": "f192cbee",
   "metadata": {},
   "source": [
    "The black hole grew largely through luminous accretion of gas.\n",
    "\n",
    "\n",
    "#### Released energy\n",
    "\n",
    "$$ \\large E_\\text{BH} \\ = \\ \\eta M c^2 \\sim 2 \\times 10^{61} M_8 \\text{ erg} $$\n",
    "\n",
    "\n",
    "where\n",
    "\n",
    "\n",
    "- $\\eta \\simeq 0.1$: accretion efficiency"
   ]
  },
  {
   "cell_type": "markdown",
   "id": "51cd4df9",
   "metadata": {},
   "source": [
    "#### (Released energy) >> (binding energy of a host bulge of stellar mass)\n",
    "\n",
    "\n",
    "$$ \\large E_\\text{bulge} \\sim M_b \\sigma^2 \\sim 8 \\times 10^{58} M_8 \\sigma^2_{200} \\text{ erg} $$\n",
    "\n",
    "\n",
    "where\n",
    "\n",
    "\n",
    "- $M_b \\sim 10^3 M$: host bulge mass"
   ]
  },
  {
   "cell_type": "markdown",
   "id": "6e655353",
   "metadata": {},
   "source": [
    "- The vast difference in these two numbers suggests that the host must notice the presence of the hole through its energy output, even though it is utterly insignificant in all other ways.\n",
    "\n",
    "\n",
    "- The most relevant quantity to compare with $E_\\text{BH}$ is not $E_\\text{bulge}$, but instead the gravitational binding energy of the bulge gas alone.\n",
    "\n",
    "\n",
    "$$ \\large E_\\text{gas} = f_g E_\\text{bulge} $$\n",
    "\n",
    "\n",
    "where\n",
    "\n",
    "\n",
    "- $f_g$: gas fraction (~ 0.16, cosmological mean value)\n",
    "\n",
    "\n",
    "$$ \\large \\boxed{ E_\\text{BH} \\sim 2 \\times 10^3 E_\\text{gas}}$$\n",
    "\n",
    "\n",
    "for a black hole close to $M-\\sigma$ relation\n",
    "\n",
    "\n",
    "- This picture requires the black hole to communicate some of its accretion energy to its host, but the process cannot be very efficient."
   ]
  },
  {
   "cell_type": "markdown",
   "id": "07ba3966",
   "metadata": {},
   "source": [
    "## 1.3 Communicating the Energy: Feedback"
   ]
  },
  {
   "cell_type": "markdown",
   "id": "11c3a23b",
   "metadata": {},
   "source": [
    "#### Two main ways\n",
    "\n",
    "\n",
    "- Radiation (Stronger in principle)\n",
    "- Mechanical\n"
   ]
  },
  {
   "cell_type": "markdown",
   "id": "c5700a95",
   "metadata": {},
   "source": [
    "- From observation, most light escapes relatively freely from active galactic nuclei (AGN)\n",
    "\n",
    "\n",
    "- This suggests that radiation in general is not the main way the SMBH affects its host.\n",
    "\n",
    "\n",
    "- The second form of coupling SMBH binding energy to a host bulge is mechanical.\n",
    "\n",
    "\n",
    "- The huge SMBH accretion luminosity drives powerful gas flows into the host, making collisions and communication inevitable.\n",
    "\n",
    "    - Jet: highly collimated flows driven from the immediate vincinity of the SMBH.\n",
    "    \n",
    "    \n",
    "- But we need to make it isotropic, so make it change of the jet direction over time!\n",
    "\n",
    "\n",
    "- Another form of mechanical communication\n",
    "\n",
    "    - This is the observed presence in many AGN of near-isotropic winds carrying large momentum fluxes.\n",
    "\n"
   ]
  },
  {
   "cell_type": "markdown",
   "id": "c851dcdc",
   "metadata": {},
   "source": [
    "## 1.4 Powerful Ionized Winds"
   ]
  },
  {
   "cell_type": "markdown",
   "id": "de3239d0",
   "metadata": {},
   "source": [
    "### Early X-ray observation of AGN\n",
    "\n",
    "- Soft X-ray Spectra (0.3-2 keV)\n",
    "    - showed absorption from ionized gas\n",
    "    - called the warmer absorber (WA) (Halpern 1984, Reynolds & Fabian 1995)\n",
    "\n",
    "\n",
    "### Recent X-ray observation of AGN\n",
    "\n",
    "- At least 50% of radio-quiiet AGN show WAs\n",
    "\n",
    "\n",
    "### Now,\n",
    "\n",
    "- WAs are dominated by K-shell ions of the lighter metals (C,N,O, ...) and Fe-L\n",
    "- Outflow velocity of ~ 100 km/s (Blustin et al. 2005, McKernan et al. 2007)\n",
    "\n",
    "\n",
    "- blueshifted X-ray absorption lines\n",
    "    - in the Fe-K band\n",
    "    - indicates the presence of highly ionized outflows with velocities $v \\sim 0.1-0.25c$ (Chartas et al. 2002; Pounds et al. 2003; Reeves et al. 2003)\n",
    "    \n",
    "- In addition to adding an important dimension to AGN accretion studies, the mechanical power of such winds, which for a radial outflow depends on $v^3$, was quickly recognized to have a wider potential importance in galaxy feedback."
   ]
  },
  {
   "cell_type": "markdown",
   "id": "7035f9f7",
   "metadata": {},
   "source": [
    "### Past observational hardships\n",
    "\n",
    "\n",
    "- five AGN from XMM-Newton data\n",
    "    - have the outflow velocieis fo ~0.1-0.2c\n",
    "    - but uncertain\n",
    "    \n",
    "- PG1211+143\n",
    "    - wide-angle outflow\n",
    "    - high outflow rate\n",
    "    \n",
    "\n",
    "### Recent observations\n",
    "\n",
    "- XMM-Newton Archive\n",
    "    - 13 (out of 42) radio-quiet objects\n",
    "        - outflow velocity: ~0.03-0.3c\n",
    "\n",
    "- Suzaku Archive\n",
    "    - median outflow velocity: ~0.1c\n",
    "    \n",
    "- highly ionized & high outflow velocity of AGN winds are common\n",
    "    - that involve substantial mass & energy flows"
   ]
  },
  {
   "cell_type": "markdown",
   "id": "90953298",
   "metadata": {},
   "source": [
    "- Velocity, ionization parameter, and column density\n",
    "    - all compatible with Eddington winds that carry the local escape velocity\n",
    "    \n",
    "    \n",
    "### However,\n",
    "\n",
    "Mean luminosity in most low-redshift AGN is sub-Eddington\n",
    "    - Thus, the high outflow are likely to be intermittent!"
   ]
  },
  {
   "cell_type": "markdown",
   "id": "326a94bd",
   "metadata": {},
   "source": [
    "- (High velocity outflow wind energy) > (Energy needed to unbind the likely gas mass of the observed stellar bulge)\n",
    "    - the energy coupling must be inefficient\n",
    "        - Evidence from NGC4051\n",
    "            - shocked at a distance of ~0.1 pc\n",
    "            - strong Compton cooling by the AGN radiation field\n"
   ]
  },
  {
   "cell_type": "markdown",
   "id": "8f919f5c",
   "metadata": {},
   "source": [
    "# 2. The Observational Evidence for Ultrafast Outflows"
   ]
  },
  {
   "cell_type": "markdown",
   "id": "9973fdd9",
   "metadata": {},
   "source": []
  }
 ],
 "metadata": {
  "kernelspec": {
   "display_name": "Python 3 (ipykernel)",
   "language": "python",
   "name": "python3"
  },
  "language_info": {
   "codemirror_mode": {
    "name": "ipython",
    "version": 3
   },
   "file_extension": ".py",
   "mimetype": "text/x-python",
   "name": "python",
   "nbconvert_exporter": "python",
   "pygments_lexer": "ipython3",
   "version": "3.9.12"
  }
 },
 "nbformat": 4,
 "nbformat_minor": 5
}
