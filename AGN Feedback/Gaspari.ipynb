{
 "cells": [
  {
   "cell_type": "markdown",
   "id": "9db6f53e",
   "metadata": {},
   "source": [
    "# Title: Unifying the Micro and Macro Properties of AGN Feeding and Feedback"
   ]
  },
  {
   "cell_type": "markdown",
   "id": "58448b04",
   "metadata": {},
   "source": [
    "### Authors: Massimo Gaspari, Aleksander Sadowski"
   ]
  },
  {
   "cell_type": "markdown",
   "id": "e11b3728",
   "metadata": {},
   "source": [
    "## Citation: [Gaspari & Sadowski 2017, ApJ](https://iopscience.iop.org/article/10.3847/1538-4357/aa61a3)\n",
    "\n",
    "``` bitex ```"
   ]
  },
  {
   "cell_type": "markdown",
   "id": "37790fcc",
   "metadata": {},
   "source": [
    "## Abstract"
   ]
  },
  {
   "cell_type": "markdown",
   "id": "3afe78c6",
   "metadata": {},
   "source": []
  },
  {
   "cell_type": "markdown",
   "id": "45a3deca",
   "metadata": {},
   "source": [
    "## 1. Introduction"
   ]
  },
  {
   "cell_type": "markdown",
   "id": "5343482c",
   "metadata": {},
   "source": [
    "Observation and simulation show that\n",
    "\n",
    "- SMBH: ~ $10^{-4}$ pc\n",
    "- Cosmic structures: ~ Mpc\n",
    "    - galaxy\n",
    "    - galaxy group\n",
    "    - cluster\n",
    "    \n",
    "They are all influencing each other.\n",
    "\n",
    "Bue due to the huge scale difference, it is impossible to simulate at the same time in a single numerical simulation.\n"
   ]
  },
  {
   "cell_type": "markdown",
   "id": "bec6e447",
   "metadata": {},
   "source": [
    "One cell for one paragraph."
   ]
  }
 ],
 "metadata": {
  "kernelspec": {
   "display_name": "Python 3 (ipykernel)",
   "language": "python",
   "name": "python3"
  },
  "language_info": {
   "codemirror_mode": {
    "name": "ipython",
    "version": 3
   },
   "file_extension": ".py",
   "mimetype": "text/x-python",
   "name": "python",
   "nbconvert_exporter": "python",
   "pygments_lexer": "ipython3",
   "version": "3.9.12"
  }
 },
 "nbformat": 4,
 "nbformat_minor": 5
}
