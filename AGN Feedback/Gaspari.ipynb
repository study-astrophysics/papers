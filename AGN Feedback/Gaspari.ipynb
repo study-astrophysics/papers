{
 "cells": [
  {
   "cell_type": "markdown",
   "id": "9db6f53e",
   "metadata": {},
   "source": [
    "# Title: Unifying the Micro and Macro Properties of AGN Feeding and Feedback"
   ]
  },
  {
   "cell_type": "markdown",
   "id": "58448b04",
   "metadata": {},
   "source": [
    "### Authors: Massimo Gaspari, Aleksander Sadowski"
   ]
  },
  {
   "cell_type": "markdown",
   "id": "e11b3728",
   "metadata": {},
   "source": [
    "## Citation: [John Doe et al. 20xx, ApJ](https://)\n",
    "\n",
    "``` bitex ```"
   ]
  },
  {
   "cell_type": "markdown",
   "id": "37790fcc",
   "metadata": {},
   "source": [
    "## Abstract"
   ]
  },
  {
   "cell_type": "markdown",
   "id": "3afe78c6",
   "metadata": {},
   "source": []
  },
  {
   "cell_type": "markdown",
   "id": "45a3deca",
   "metadata": {},
   "source": [
    "## 1. Introduction"
   ]
  },
  {
   "cell_type": "markdown",
   "id": "5343482c",
   "metadata": {},
   "source": []
  },
  {
   "cell_type": "markdown",
   "id": "bec6e447",
   "metadata": {},
   "source": [
    "One cell for one paragraph."
   ]
  }
 ],
 "metadata": {
  "kernelspec": {
   "display_name": "Python 3",
   "language": "python",
   "name": "python3"
  },
  "language_info": {
   "codemirror_mode": {
    "name": "ipython",
    "version": 3
   },
   "file_extension": ".py",
   "mimetype": "text/x-python",
   "name": "python",
   "nbconvert_exporter": "python",
   "pygments_lexer": "ipython3",
   "version": "3.8.8"
  }
 },
 "nbformat": 4,
 "nbformat_minor": 5
}
