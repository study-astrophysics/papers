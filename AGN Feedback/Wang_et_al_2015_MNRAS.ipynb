{
 "cells": [
  {
   "cell_type": "markdown",
   "id": "9db6f53e",
   "metadata": {},
   "source": [
    "# Title: NIHAO project – I. Reproducing the inefficiency of galaxy formation across cosmic time with a large sample of cosmological hydrodynamical simulations"
   ]
  },
  {
   "cell_type": "markdown",
   "id": "58448b04",
   "metadata": {},
   "source": [
    "### Authors: Liang Wang, Aaron A. Dutton, Gregory S. Stinson, Andrea V. Maccio, Camilla Penzo, Xi Kang, Ben W. Keller and James Wadsley"
   ]
  },
  {
   "cell_type": "markdown",
   "id": "e11b3728",
   "metadata": {},
   "source": [
    "## Citation: [Wang et al. (2015), MNRAS](https://academic.oup.com/mnras/article/454/1/83/1127627)\n",
    "\n",
    "```@article{RN36,\n",
    "   author = {Wang, Liang and Dutton, Aaron A. and Stinson, Gregory S. and Macciò, Andrea V. and Penzo, Camilla and Kang, Xi and Keller, Ben W. and Wadsley, James},\n",
    "   title = {NIHAO project – I. Reproducing the inefficiency of galaxy formation across cosmic time with a large sample of cosmological hydrodynamical simulations},\n",
    "   journal = {Monthly Notices of the Royal Astronomical Society},\n",
    "   volume = {454},\n",
    "   number = {1},\n",
    "   pages = {83-94},\n",
    "   ISSN = {0035-8711\n",
    "1365-2966},\n",
    "   DOI = {10.1093/mnras/stv1937},\n",
    "   year = {2015},\n",
    "   type = {Journal Article}\n",
    "}```"
   ]
  },
  {
   "cell_type": "markdown",
   "id": "37790fcc",
   "metadata": {},
   "source": [
    "## Abstract"
   ]
  },
  {
   "cell_type": "markdown",
   "id": "3afe78c6",
   "metadata": {},
   "source": [
    "We introduce project NIHAO (Numerical Investigation of a Hundred Astrophysical Objects), a set of 100 cosmological zoom-in hydrodynamical simulations performed using the GASOLINE code, with an improved implementation of the SPH algorithm.\n",
    "\n",
    "The particle masses and force softenings are chosen to resolve the mass profile to below 1 per cent of the virial radius at all masses, ensuring that galaxy half-light raii are well resolved.\n",
    "\n",
    "We thus conclude that stellar feedback is the chief piece of physics required to limit the efficiency of star formation in galaxies less massive than the Milky Way."
   ]
  },
  {
   "cell_type": "markdown",
   "id": "45a3deca",
   "metadata": {},
   "source": [
    "## 1. Introduction"
   ]
  },
  {
   "cell_type": "markdown",
   "id": "5343482c",
   "metadata": {},
   "source": [
    "Understanding the formation of spiral galaxies (including our own Galaxy – the Milky Way) has been at the forefront of theoretical as- trophysics for decades.\n",
    "\n",
    "Recently, it has been shown that higher spatial resolution coupled to more real- istic models for star formation and stellar feedback can solve these problems, resulting in spiral galaxies with realistic sizes and bulge fractions (Guedes et al. 2011; Piontek & Steinmetz 2011; Brook et al. 2012; Aumer et al. 2013; Marinacci, Pakmor & Springel 2014; Crain et al. 2015)."
   ]
  },
  {
   "cell_type": "markdown",
   "id": "a504463a",
   "metadata": {},
   "source": [
    "One of the most fundamental constraints for galaxy formation models is the relation between the stellar mass of a galaxy, $M_{\\text{star}}$, and the mass of its host dark matter halo, $M_{\\text{halo}}$.\n",
    "\n",
    "In recent years the Mstar versus Mhalo relation has been studied extensively using observations of weak gravitational lensing, satel- lite kinematics, and halo abundance matching.\n",
    "\n",
    "One of the key results of these studies is that star formation is inefficient – the maximum efficiency is ∼25 per cent, and independent of redshift, occurring at a halo mass similar to that of the Milky Way."
   ]
  },
  {
   "cell_type": "markdown",
   "id": "d23a7104",
   "metadata": {},
   "source": [
    "Reproducing this relation both at redshift z = 0 and earlier times, in a fully cosmological context has been a challenge, with many simulations and semi-analytic models predicting either too many stars at redshift z = 0, or earlier times (Weinmann et al. 2012).\n",
    "\n",
    "The NIHAO (Numerical Investigation of a Hundred Astrophysical Objects) project aims to achieve these goals with ∼100 hydrodynamical cosmological zoom-in simulations."
   ]
  },
  {
   "cell_type": "markdown",
   "id": "49ce1cd4",
   "metadata": {},
   "source": [
    "## Simulations"
   ]
  },
  {
   "cell_type": "markdown",
   "id": "282ac1af",
   "metadata": {},
   "source": [
    "The simulations presented here are a series of fully cosmological ‘zoom-in’ simulations of galaxy formation run in a flat 􏰀CDM cosmology with parameters from the Planck Collaboration XVI (2014)."
   ]
  },
  {
   "cell_type": "markdown",
   "id": "bf639efd",
   "metadata": {},
   "source": [
    "### 2.1 Sample selection and initial conditions"
   ]
  },
  {
   "cell_type": "markdown",
   "id": "8328acd3",
   "metadata": {},
   "source": [
    "- Box size: 60, 20, and 15 $\\text{Mpc }h^{-1}$\n",
    "- Number of particles: $400^3$\n",
    "- Halo mass: $ 9.5 \\lesssim \\log_{10} (M_{200}/M_\\odot) \\lesssim 12.3 $"
   ]
  },
  {
   "cell_type": "markdown",
   "id": "4c7ea879",
   "metadata": {},
   "source": [
    "For technical reasons with the zoom-in technique we require the haloes to be ‘isolated’. Formally, we only consider haloes that have no other haloes with mass greater than one-fifth of the virial mass within 3 virial radii.\n",
    "\n",
    "Initial conditions for zoom-in simulations were created using a modified version of the GRAFIC2 package (Bertschinger 2001) as described in Penzo et al. (2014)."
   ]
  },
  {
   "cell_type": "markdown",
   "id": "840c81bb",
   "metadata": {},
   "source": [
    "> Figure 2. Number of dark matter particles per halo versus halo mass for NIHAO simulations.\n",
    "\n",
    "\n",
    "**Other zoom-in simulations**\n",
    "- ERIS – Guedes et al. 2011; Governato et al. 2012; Aumer et al. 2013; Marinacci et al. 2014\n",
    "- FIRE – Hopkins et al. 2014; Sawala et al. 2015\n",
    "\n",
    "\n",
    "**Large volume simulations**\n",
    "- ILLUSTRIS – Vogelsberger et al. 2014\n",
    "- EAGLE – Schaye et al. 2015\n",
    "\n",
    "\n",
    "NIHAO is by far the largest set of zoom-in simulations resolved with $\\sim 10^6$ particles per halo."
   ]
  },
  {
   "cell_type": "markdown",
   "id": "05b35db0",
   "metadata": {},
   "source": [
    "> Table1. Dark and gas particle masses, $m$, and force softenings, $\\epsilon$,for our zoom-in simulations.\n",
    "\n",
    "Note that the ratio between dark and gas particle masses is initially the same as the cosmological dark/baryon mass ratio $\\Omega_{\\text{􏰁DM}}/\\Omega_{\\text{􏰁b}} \\approx 5.48$, and the gas (and star) particle force softenings are set to be $\\sqrt{\\Omega_{\\text{􏰁DM}}/\\Omega_{\\text{􏰁b}}} \\approx 2.34$ times smaller than the dark matter particle softenings."
   ]
  },
  {
   "cell_type": "markdown",
   "id": "5a240906",
   "metadata": {},
   "source": [
    "### 2.2 Hydrodynamics"
   ]
  },
  {
   "cell_type": "markdown",
   "id": "00a12d58",
   "metadata": {},
   "source": []
  }
 ],
 "metadata": {
  "kernelspec": {
   "display_name": "Python 3 (ipykernel)",
   "language": "python",
   "name": "python3"
  },
  "language_info": {
   "codemirror_mode": {
    "name": "ipython",
    "version": 3
   },
   "file_extension": ".py",
   "mimetype": "text/x-python",
   "name": "python",
   "nbconvert_exporter": "python",
   "pygments_lexer": "ipython3",
   "version": "3.8.2"
  }
 },
 "nbformat": 4,
 "nbformat_minor": 5
}
