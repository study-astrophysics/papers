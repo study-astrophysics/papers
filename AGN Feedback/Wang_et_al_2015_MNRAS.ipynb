{
 "cells": [
  {
   "cell_type": "markdown",
   "id": "9db6f53e",
   "metadata": {},
   "source": [
    "# Title: NIHAO project – I. Reproducing the inefficiency of galaxy formation across cosmic time with a large sample of cosmological hydrodynamical simulations"
   ]
  },
  {
   "cell_type": "markdown",
   "id": "58448b04",
   "metadata": {},
   "source": [
    "### Authors: Liang Wang, Aaron A. Dutton, Gregory S. Stinson, Andrea V. Maccio, Camilla Penzo, Xi Kang, Ben W. Keller and James Wadsley"
   ]
  },
  {
   "cell_type": "markdown",
   "id": "e11b3728",
   "metadata": {},
   "source": [
    "## Citation: [Wang et al. (2015), MNRAS](https://academic.oup.com/mnras/article/454/1/83/1127627)\n",
    "\n",
    "```@article{RN36,\n",
    "   author = {Wang, Liang and Dutton, Aaron A. and Stinson, Gregory S. and Macciò, Andrea V. and Penzo, Camilla and Kang, Xi and Keller, Ben W. and Wadsley, James},\n",
    "   title = {NIHAO project – I. Reproducing the inefficiency of galaxy formation across cosmic time with a large sample of cosmological hydrodynamical simulations},\n",
    "   journal = {Monthly Notices of the Royal Astronomical Society},\n",
    "   volume = {454},\n",
    "   number = {1},\n",
    "   pages = {83-94},\n",
    "   ISSN = {0035-8711\n",
    "1365-2966},\n",
    "   DOI = {10.1093/mnras/stv1937},\n",
    "   year = {2015},\n",
    "   type = {Journal Article}\n",
    "}```"
   ]
  },
  {
   "cell_type": "markdown",
   "id": "37790fcc",
   "metadata": {},
   "source": [
    "## Abstract"
   ]
  },
  {
   "cell_type": "markdown",
   "id": "3afe78c6",
   "metadata": {},
   "source": [
    "We introduce project NIHAO (Numerical Investigation of a Hundred Astrophysical Objects), a set of 100 cosmological zoom-in hydrodynamical simulations performed using the GASOLINE code, with an improved implementation of the SPH algorithm.\n",
    "\n",
    "The particle masses and force softenings are chosen to resolve the mass profile to below 1 per cent of the virial radius at all masses, ensuring that galaxy half-light raii are well resolved.\n",
    "\n",
    "We thus conclude that stellar feedback is the chief piece of physics required to limit the efficiency of star formation in galaxies less massive than the Milky Way."
   ]
  },
  {
   "cell_type": "markdown",
   "id": "45a3deca",
   "metadata": {},
   "source": [
    "## 1. Introduction"
   ]
  },
  {
   "cell_type": "markdown",
   "id": "5343482c",
   "metadata": {},
   "source": [
    "Understanding the formation of spiral galaxies (including our own Galaxy – the Milky Way) has been at the forefront of theoretical as- trophysics for decades.\n",
    "\n",
    "Recently, it has been shown that higher spatial resolution coupled to more real- istic models for star formation and stellar feedback can solve these problems, resulting in spiral galaxies with realistic sizes and bulge fractions (Guedes et al. 2011; Piontek & Steinmetz 2011; Brook et al. 2012; Aumer et al. 2013; Marinacci, Pakmor & Springel 2014; Crain et al. 2015)."
   ]
  },
  {
   "cell_type": "markdown",
   "id": "a504463a",
   "metadata": {},
   "source": [
    "One of the most fundamental constraints for galaxy formation models is the relation between the stellar mass of a galaxy, $M_{\\text{star}}$, and the mass of its host dark matter halo, $M_{\\text{halo}}$.\n",
    "\n",
    "In recent years the Mstar versus Mhalo relation has been studied extensively using observations of weak gravitational lensing, satel- lite kinematics, and halo abundance matching.\n",
    "\n",
    "One of the key results of these studies is that star formation is inefficient – the maximum efficiency is ∼25 per cent, and independent of redshift, occurring at a halo mass similar to that of the Milky Way."
   ]
  },
  {
   "cell_type": "markdown",
   "id": "d23a7104",
   "metadata": {},
   "source": [
    "Reproducing this relation both at redshift z = 0 and earlier times, in a fully cosmological context has been a challenge, with many simulations and semi-analytic models predicting either too many stars at redshift z = 0, or earlier times (Weinmann et al. 2012).\n",
    "\n",
    "The NIHAO (Numerical Investigation of a Hundred Astrophysical Objects) project aims to achieve these goals with ∼100 hydrodynamical cosmological zoom-in simulations."
   ]
  },
  {
   "cell_type": "markdown",
   "id": "49ce1cd4",
   "metadata": {},
   "source": [
    "## 2. Simulations"
   ]
  },
  {
   "cell_type": "markdown",
   "id": "282ac1af",
   "metadata": {},
   "source": [
    "The simulations presented here are a series of fully cosmological ‘zoom-in’ simulations of galaxy formation run in a flat 􏰀CDM cosmology with parameters from the Planck Collaboration XVI (2014)."
   ]
  },
  {
   "cell_type": "markdown",
   "id": "bf639efd",
   "metadata": {},
   "source": [
    "### 2.1 Sample selection and initial conditions"
   ]
  },
  {
   "cell_type": "markdown",
   "id": "8328acd3",
   "metadata": {},
   "source": [
    "- Box size: 60, 20, and 15 $\\text{Mpc }h^{-1}$\n",
    "- Number of particles: $400^3$\n",
    "- Halo mass: $ 9.5 \\lesssim \\log_{10} (M_{200}/M_\\odot) \\lesssim 12.3 $"
   ]
  },
  {
   "cell_type": "markdown",
   "id": "4c7ea879",
   "metadata": {},
   "source": [
    "For technical reasons with the zoom-in technique we require the haloes to be ‘isolated’. Formally, we only consider haloes that have no other haloes with mass greater than one-fifth of the virial mass within 3 virial radii.\n",
    "\n",
    "Initial conditions for zoom-in simulations were created using a modified version of the GRAFIC2 package (Bertschinger 2001) as described in Penzo et al. (2014)."
   ]
  },
  {
   "cell_type": "markdown",
   "id": "840c81bb",
   "metadata": {},
   "source": [
    "> Figure 2. Number of dark matter particles per halo versus halo mass for NIHAO simulations.\n",
    "\n",
    "\n",
    "**Other zoom-in simulations**\n",
    "- ERIS – Guedes et al. 2011; Governato et al. 2012; Aumer et al. 2013; Marinacci et al. 2014\n",
    "- FIRE – Hopkins et al. 2014; Sawala et al. 2015\n",
    "\n",
    "\n",
    "**Large volume simulations**\n",
    "- ILLUSTRIS – Vogelsberger et al. 2014\n",
    "- EAGLE – Schaye et al. 2015\n",
    "\n",
    "\n",
    "NIHAO is by far the largest set of zoom-in simulations resolved with $\\sim 10^6$ particles per halo."
   ]
  },
  {
   "cell_type": "markdown",
   "id": "05b35db0",
   "metadata": {},
   "source": [
    "> Table1. Dark and gas particle masses, $m$, and force softenings, $\\epsilon$,for our zoom-in simulations.\n",
    "\n",
    "Note that the ratio between dark and gas particle masses is initially the same as the cosmological dark/baryon mass ratio $\\Omega_{\\text{􏰁DM}}/\\Omega_{\\text{􏰁b}} \\approx 5.48$, and the gas (and star) particle force softenings are set to be $\\sqrt{\\Omega_{\\text{􏰁DM}}/\\Omega_{\\text{􏰁b}}} \\approx 2.34$ times smaller than the dark matter particle softenings."
   ]
  },
  {
   "cell_type": "markdown",
   "id": "5a240906",
   "metadata": {},
   "source": [
    "### 2.2 Hydrodynamics"
   ]
  },
  {
   "cell_type": "markdown",
   "id": "00a12d58",
   "metadata": {},
   "source": [
    "We use a new version of the N-body SPH solver GASOLINE (Wadsley, Stadel & Quinn 2004)."
   ]
  },
  {
   "cell_type": "markdown",
   "id": "cff717dd",
   "metadata": {},
   "source": [
    "Diffusion of quantities like metals and thermal energy between particles has been implemented as described in Wadsley, Veeravalli & Couchman (2008)."
   ]
  },
  {
   "cell_type": "markdown",
   "id": "c3fbf37e",
   "metadata": {},
   "source": [
    "We also increase the number of neighbour particles used in the calculation of the smoothed hydrodynamic properties from 32 to **50**."
   ]
  },
  {
   "cell_type": "markdown",
   "id": "5046d534",
   "metadata": {},
   "source": [
    "Cooling via hydrogen, helium, and various metal-lines in a uniform ultraviolet ionizing background is included as described in Shen, Wadsley & Stinson (2010) and was calculated using CLOUDY (version 07.02; Ferland et al. 1998)."
   ]
  },
  {
   "cell_type": "markdown",
   "id": "3fee5185",
   "metadata": {},
   "source": [
    "### 2.3 Star formation and feedback"
   ]
  },
  {
   "cell_type": "markdown",
   "id": "ceb94514",
   "metadata": {},
   "source": [
    "Gas is eligible to form stars according to the **Kennicutt–Schmidt Law** when it satisfies a temperature and density threshold."
   ]
  },
  {
   "cell_type": "markdown",
   "id": "702205de",
   "metadata": {},
   "source": [
    "The pre-SN feedback consists of $\\epsilon_\\text{ESF} = 13$%  of the total stellar flux, thermal energy per $M_\\odot$ of the entire stellar population, being ejected from stars into surrounding gas. Radiative cooling is left on for the pre-SN feedback."
   ]
  },
  {
   "cell_type": "markdown",
   "id": "c8e1a7cd",
   "metadata": {},
   "source": [
    "In the second, supernova, epoch of feedback, stars of mass $8 M_\\odot < M_\\text{star} < 40 M_\\odot$ eject both energy and metals into the interstellar medium gas surrounding the region where they formed."
   ]
  },
  {
   "cell_type": "markdown",
   "id": "a6861150",
   "metadata": {},
   "source": [
    "### 2.4 Derived galaxy and halo parameters"
   ]
  },
  {
   "cell_type": "markdown",
   "id": "ba61e77f",
   "metadata": {},
   "source": [
    "Haloes in our zoom-in simulations were identified using the MPI+OpenMP hybrid halo finder $\\text{AHF}^2$ (Knollmann & Knebe 2009; Gill, Knebe & Gibson 2004)."
   ]
  },
  {
   "cell_type": "markdown",
   "id": "5e37c999",
   "metadata": {},
   "source": [
    "The virial masses of the haloes are defined as the masses within an sphere containing $\\Delta􏰂 = 200$ times the cosmic critical matter density."
   ]
  },
  {
   "cell_type": "markdown",
   "id": "2e24c7ac",
   "metadata": {},
   "source": [
    "The mass in stars, $M_\\text{star}$, is measured within an sphere of radius, $r_\\text{gal} \\equiv 0.2R_{200}$. The star formation rate, SFR, is measured as the mass of stars formed inside $r_\\text{gal}$ over the preceding 100 Myr."
   ]
  },
  {
   "cell_type": "markdown",
   "id": "58097c11",
   "metadata": {},
   "source": [
    "Each image is 50 kpc on a side and was created using the Monte Carlo radiative transfer code ```SUNRISE``` (Jonsson 2006)."
   ]
  },
  {
   "cell_type": "markdown",
   "id": "764c7f34",
   "metadata": {},
   "source": [
    "## 3. Results"
   ]
  },
  {
   "cell_type": "markdown",
   "id": "2c5e3b64",
   "metadata": {},
   "source": [
    "### 3.1 Stellar mass versus halo mass"
   ]
  },
  {
   "cell_type": "markdown",
   "id": "d52d1153",
   "metadata": {},
   "source": [
    "> Figure 5. Stellar mass versus halo mass at redshift $z = 0$ for main simulations (blue points) together with lower mass galaxies in the zoom-in region (green and red points)."
   ]
  },
  {
   "cell_type": "markdown",
   "id": "d6172d9f",
   "metadata": {},
   "source": [
    "Fig. 5 shows the relation between stellar mass and virial mass for our simulated central galaxies compared to results from three differ- ent halo abundance matching measurements: Behroozi et al. (2013), Moster et al. (2013), and Kravtsov et al. (2014). Our simulations agree well with each of these relations."
   ]
  },
  {
   "cell_type": "markdown",
   "id": "75819847",
   "metadata": {},
   "source": [
    "An additional systematic uncertainty to consider is due to form of the stellar initial mass function (IMF)."
   ]
  },
  {
   "cell_type": "markdown",
   "id": "32cc1e56",
   "metadata": {},
   "source": [
    "The parameters of the feedback model are kept constant across the entire mass range. Stellar feedback being the key ingredient that limits star formation in galaxies lower mass than the Milky Way."
   ]
  },
  {
   "cell_type": "markdown",
   "id": "1998e5c5",
   "metadata": {},
   "source": [
    "> Figure 6. Evolution of the stellar mass versus halo mass relation. There is good agreement between our simulations and constraints from halo abundance matching (Behroozi et al. 2013; Moster, Naab & White 2013)."
   ]
  },
  {
   "cell_type": "markdown",
   "id": "aac4ad08",
   "metadata": {},
   "source": [
    "Below a halo mass of $M_{200} \\sim 2 \\times 10^{10} M_\\odot$, there starts to be a discrepancy between different resolutions. There are two possibilities: stars may form more readily in low-resolution galaxies or else their halo masses might be reduced through environmental processes such as tidal stripping."
   ]
  },
  {
   "cell_type": "markdown",
   "id": "3840aef2",
   "metadata": {},
   "source": [
    "Above a halo mass of $M_{200} \\sim 2 \\times 10^{10} M_\\odot$ the scatter in the relation is a constant and consistent with observational constraints of $ \\sim 0.2$ dex (More et al. 2011; Reddick et al. 2013)."
   ]
  },
  {
   "cell_type": "markdown",
   "id": "ed0669fd",
   "metadata": {},
   "source": [
    "Our study bridges the gap between these two works by creating a large number of high-resolution simulations with realistic stellar masses."
   ]
  },
  {
   "cell_type": "markdown",
   "id": "d6180b6c",
   "metadata": {},
   "source": [
    "### 3.2 Star formation rate versus stellar mass"
   ]
  },
  {
   "cell_type": "markdown",
   "id": "6e04c5f7",
   "metadata": {},
   "source": [
    "> Figure 7. Evolution of the galaxy star formation rate versus stellar mass relation. "
   ]
  },
  {
   "cell_type": "markdown",
   "id": "18f602aa",
   "metadata": {},
   "source": [
    "### 3.3 Rotation curves"
   ]
  },
  {
   "cell_type": "markdown",
   "id": "4c6785a5",
   "metadata": {},
   "source": [
    "## 4. Summary"
   ]
  },
  {
   "cell_type": "markdown",
   "id": "1ff85944",
   "metadata": {},
   "source": [
    "The stellar masses of the simula- tions closely track the results from abundance matching for stellar masses as a function of halo mass across more than three quarters of the life of the Universe. "
   ]
  },
  {
   "cell_type": "markdown",
   "id": "25f19264",
   "metadata": {},
   "source": [
    "Stellar feedback is the chief piece of physics required to limit the efficiency of star formation in galaxies less massive than the Milky Way."
   ]
  }
 ],
 "metadata": {
  "kernelspec": {
   "display_name": "Python 3 (ipykernel)",
   "language": "python",
   "name": "python3"
  },
  "language_info": {
   "codemirror_mode": {
    "name": "ipython",
    "version": 3
   },
   "file_extension": ".py",
   "mimetype": "text/x-python",
   "name": "python",
   "nbconvert_exporter": "python",
   "pygments_lexer": "ipython3",
   "version": "3.9.7"
  }
 },
 "nbformat": 4,
 "nbformat_minor": 5
}
