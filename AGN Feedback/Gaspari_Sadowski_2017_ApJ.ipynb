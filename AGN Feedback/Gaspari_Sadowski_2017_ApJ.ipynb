{
 "cells": [
  {
   "cell_type": "markdown",
   "id": "9db6f53e",
   "metadata": {},
   "source": [
    "# Title: Unifying the Micro and Macro Properties of AGN Feeding and Feedback"
   ]
  },
  {
   "cell_type": "markdown",
   "id": "58448b04",
   "metadata": {},
   "source": [
    "### Authors: Massimo Gaspari, Aleksander Sadowski"
   ]
  },
  {
   "cell_type": "markdown",
   "id": "e11b3728",
   "metadata": {},
   "source": [
    "## Citation: [Gaspari & Sadowski 2017, ApJ](https://iopscience.iop.org/article/10.3847/1538-4357/aa61a3)"
   ]
  },
  {
   "cell_type": "markdown",
   "id": "37790fcc",
   "metadata": {},
   "source": [
    "## Abstract"
   ]
  },
  {
   "cell_type": "markdown",
   "id": "3afe78c6",
   "metadata": {},
   "source": [
    "- UFO : Ultra Fast Outflow\n",
    "\n",
    "- CCA: Chaotic Cold Accretion"
   ]
  },
  {
   "cell_type": "markdown",
   "id": "45a3deca",
   "metadata": {},
   "source": [
    "## 1. Introduction"
   ]
  },
  {
   "cell_type": "markdown",
   "id": "5343482c",
   "metadata": {},
   "source": [
    "Observation and simulation show that\n",
    "\n",
    "- SMBH: ~ $10^{-4}$ pc\n",
    "- Cosmic structures: ~ Mpc\n",
    "    - galaxy\n",
    "    - galaxy group\n",
    "    - cluster\n",
    "    \n",
    "They are all influencing each other.\n",
    "\n",
    "Bue due to the huge scale difference, it is impossible to simulate at the same time in a single numerical simulation.\n"
   ]
  },
  {
   "cell_type": "markdown",
   "id": "bec6e447",
   "metadata": {},
   "source": [
    "![alt text](images/gaspari_fig1.png)"
   ]
  },
  {
   "cell_type": "markdown",
   "id": "c83cd9f6",
   "metadata": {},
   "source": [
    "## 2. Large and Small Scale Efficiencies"
   ]
  },
  {
   "cell_type": "markdown",
   "id": "1ab52e5d",
   "metadata": {},
   "source": [
    "Three key regions\n",
    "\n",
    "\n",
    "#### (1) $r \\lesssim 5 r_S$: near the BH horizon\n",
    "\n",
    "- gas rushing into BH\n",
    "- no outflow\n",
    "- fully resolved by the horizon-scale GR-RMHD\n",
    "\n",
    "\n",
    "#### (2) $r \\lesssim 100 r_S$: UFO launching region\n",
    "\n",
    "- binding energy of infalling matters $\\rightarrow$ mechanical outflow\n",
    "- not interact (?)\n",
    "\n",
    "\n",
    "#### (3) $r < r_\\text{core} \\approx 10^9 r_S \\approx 0.1 r_\\text{vir}$\n",
    "\n",
    "- outflow: entrained, slowed down, and thermalized\n",
    "- CCA rain develops with major collision increasing within kpc (10-100 Bondi radius) scale"
   ]
  },
  {
   "cell_type": "markdown",
   "id": "42b15efa",
   "metadata": {},
   "source": [
    "### 2.1 Macro Efficiency: chaotic\n",
    "\n",
    "- mechanical efficiency $\\epsilon \\equiv \\frac{P}{\\dot{M}c^2}$\n",
    "\n",
    "\n",
    "- cooling flow problem (?): overheating/overcooling + preserving the inner structure of the hot halo\n",
    "\n",
    "By self-regulation,\n",
    "\n",
    "\n",
    "$$ \\large \\epsilon_\\text{BH} \\simeq 10^{-3} T_\\text{x,7.4} \\propto \\frac{c^2_\\text{s,x}}{c^2}$$\n",
    "\n",
    "\n",
    "where\n",
    "\n",
    "\n",
    "- $c_\\text{s,x}$: hot-halo adiabatic sound speed\n",
    "\n",
    "\n",
    "- $c$: speed of light\n",
    "\n",
    "\n",
    "- $\\epsilon_\\text{BH} \\simeq 2\\times 10^{-4} - 4 \\times 10^{-3} \\propto T_\\text{x,7.4}$\n",
    "\n",
    "\n",
    "- $T_\\text{x,7.4}$: hot-halo temperature\n",
    "\n",
    "\n",
    "X-ray halo system: key to setting the macro efficiency."
   ]
  },
  {
   "cell_type": "markdown",
   "id": "0d7e3f1f",
   "metadata": {},
   "source": [
    "### 2.2 Horizon Efficiency: GR-RMHD\n",
    "\n",
    "\n",
    "- near SMBH horizon\n",
    "\n",
    "\n",
    "- gravitational energy $\\rightarrow$ kinetic energy (outflow by magneto-centrifugal mechanism) $\\rightarrow$ dissipate heat the gas\n",
    "\n",
    "\n",
    "- accretion flow in the innermost region (Ref: SG17)\n",
    "    - For non-rotating BH & standard non-saturated magnetic field\n",
    "        - $\\epsilon_\\bullet \\simeq 0.03 \\pm 0.01$\n",
    "\n",
    "\n",
    "- outflow ejected in a quasi-spherical way \n",
    "    - thermally driven outflow: equatorial region\n",
    "    - magnetically driven outflow: polar region"
   ]
  },
  {
   "cell_type": "markdown",
   "id": "56a9d5ad",
   "metadata": {},
   "source": [
    "## 3. Linking the Macro and Micro Scales\n",
    "\n",
    "\n",
    "### Large-scale outflow power\n",
    "\n",
    "\n",
    "$$ \\large P_\\text{OUT} = \\epsilon_\\text{BH} \\dot{M}_\\text{cool} c^2 $$\n",
    "\n",
    "\n",
    "where\n",
    "\n",
    "\n",
    "- $\\dot{M}_\\text{cool}$: quenched cooling flow rate\n",
    "\n",
    "\n",
    "- $\\epsilon_\\text{BH}$: macro-scale mechanical efficiency\n",
    "\n",
    "\n",
    "\n"
   ]
  },
  {
   "cell_type": "markdown",
   "id": "84c3f4be",
   "metadata": {},
   "source": [
    "As cold clouds and filaments rain down, they experience recurrent *chaotic fractual collisions*, which cancel angular momentum at progressively smaller radii, in particular as they collapse within $r < 1 \\text{kpc}$"
   ]
  },
  {
   "cell_type": "markdown",
   "id": "d0b2df2d",
   "metadata": {},
   "source": [
    "### Inner tiny SMBH: actual source of energy injection\n",
    "\n",
    "\n",
    "$$ \\large P_\\text{out} = \\epsilon_\\bullet \\dot{M}_\\bullet c^2 $$\n",
    "\n",
    "\n",
    "where\n",
    "\n",
    "\n",
    "- $\\dot{M}_\\bullet$: inflow rate through the BH horizon\n",
    "\n",
    "\n",
    "- $\\epsilon_\\bullet$: horizon efficiency\n"
   ]
  },
  {
   "cell_type": "markdown",
   "id": "97c2ecf9",
   "metadata": {},
   "source": [
    "### 3.1 Inflow Properties\n",
    "\n",
    "- Large-scale inflow rate = quenched cooling flow rate\n",
    "\n",
    "\n",
    "- Pure cooling flow (CF) rate \n",
    "    - enthalpy variation of the hot gaseous halo via the first law of thermodynamics in isobaric mode\n",
    "    \n",
    "    \n",
    "$$ \\large L_\\text{x} = \\frac{\\gamma}{\\gamma - 1} \\frac{k_b T_\\text{x}}{\\mu m_p} \\dot{M}_\\text{CF} = \\frac{c^2_\\text{s,x}}{\\gamma-1}\\dot{M}_\\text{CF} $$\n",
    "\n",
    "\n",
    "where\n",
    "\n",
    "\n",
    "- $T_\\text{x}$: X-ray temperature of the hot halo\n",
    "\n",
    "\n",
    "- $L_\\text{x}$: X-ray luminosity of the hot halo\n",
    "\n",
    "\n",
    "- $\\gamma=\\tfrac{5}{3}$: adiabatic index\n",
    "\n",
    "\n",
    "- $\\mu \\simeq 0.62$: average atomic weight for a fully ionized plasma with 25% He in mass\n",
    "\n",
    "\n",
    "- $c_s = \\left( \\frac{\\gamma k_b T_\\text{x}}{\\mu m_p} \\right)^{1/2} \\simeq 1.5 \\times 10^4 T_\\text{x}^{1/2}$\n",
    "\n",
    "\n",
    "\n",
    "AGN feedback preserves the hot halos in quasi thermal equilibrium throughout the 10 Gyr evolution.\n",
    "\n",
    "\n",
    "\n",
    "### Effective quenched cooling rate\n",
    "\n",
    "\n",
    "$$ \\large \\dot{M}_\\text{cool} \\simeq 10^{-2} \\dot{M}_\\text{CF} \\simeq 6.7 \\times 10^{-3} \\frac{L_\\text{x}}{c^2_\\text{s,x}}$$\n",
    "\n",
    "Typically 100 times the Bondi rate.\n",
    "\n",
    "\n",
    "\n",
    "Temperature $\\leftrightarrow$ luminosity by the scaling relation\n",
    "    - since hot halo is formed by the gravitational collapse\n",
    "    \n",
    "Thus,\n",
    "\n",
    "\n",
    "$$ \\large \\dot{M}_\\text{cool} \\simeq (1.1 M_\\odot \\text{yr}^{-1}) T^2_\\text{x, 7.4} = (1.1 M_\\odot \\text{yr}^{-1}) L^{2/3}_\\text{x, 43.8} $$\n",
    "\n",
    "\n",
    "### Energy conservation requirement\n",
    "\n",
    "\n",
    "$$ \\large P_\\text{out} = P_\\text{OUT}$$\n",
    "\n",
    "Thus,\n",
    "\n",
    "$$ \\large \\dot{M}_\\bullet = \\frac{\\epsilon_\\text{BH}}{\\epsilon_\\bullet} \\dot{M}_\\text{cool} $$\n",
    "\n",
    "\n",
    "\n",
    "where\n",
    "\n",
    "\n",
    "- $\\epsilon_\\bullet = 0.03$ by GR-RMHD simulation\n",
    "\n",
    "\n",
    "Hot halos must simultaneously avoid overheating and overcooling\n",
    "- energy lost via raiative emission in the core must be replaced by the SMBH feedback power\n",
    "\n",
    "$$ \\large P_\\text{OUT} \\simeq L_\\text{x} $$\n",
    "\n",
    "\n",
    "Thus,\n",
    "\n",
    "$$ \\large \\epsilon_\\text{BH} = \\frac{L_\\text{x}}{\\dot{M}_\\text{cool}c^2} = \\frac{10^2}{\\gamma-1}\\frac{c^2_s}{c^2} \\simeq 10^{-3} T_\\text{x, 7.4} = 10^{-3} L_\\text{x,43.8}^{1/3} $$\n",
    "\n",
    "\n",
    "Use this to get the horizon inflow rate.\n",
    "\n",
    "\n",
    "$$ \\large \\dot{M}_\\bullet \\simeq (0.03 \\dot{M}_\\text{cool}) T_\\text{x, 7.4} = (0.03 \\dot{M}_\\text{cool}) L^{1/3}_\\text{x, 43.8} $$\n",
    "\n",
    "Only a few percent of the quenched cooling inflow rate is actually sinked through the SMBH horizon.\n",
    "\n",
    "\n",
    "### Accretion rate directly proportional to the X-ray luminosity\n",
    "\n",
    "\n",
    "$$ \\large \\dot{M}_\\bullet \\simeq (0.04 M_\\odot \\text{yr}^{-1}) L_\\text{x, 43.8} = (0.04 M_\\odot \\text{yr}^{-1}) T^3_\\text{x, 7.4} $$\n",
    "\n",
    "\n",
    "SMBHs in lower mass halos have typically a lower absolute accretion rate.\n",
    "\n",
    "\n",
    "A relatively smaller fraction of gas reaches the horizon as AGN feedback is more effective in halos with lower binding energy."
   ]
  },
  {
   "cell_type": "markdown",
   "id": "e437223d",
   "metadata": {},
   "source": [
    "### 3.2 Outflow Properties\n",
    "\n"
   ]
  }
 ],
 "metadata": {
  "kernelspec": {
   "display_name": "Python 3 (ipykernel)",
   "language": "python",
   "name": "python3"
  },
  "language_info": {
   "codemirror_mode": {
    "name": "ipython",
    "version": 3
   },
   "file_extension": ".py",
   "mimetype": "text/x-python",
   "name": "python",
   "nbconvert_exporter": "python",
   "pygments_lexer": "ipython3",
   "version": "3.9.12"
  }
 },
 "nbformat": 4,
 "nbformat_minor": 5
}
