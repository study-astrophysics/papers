{
 "cells": [
  {
   "cell_type": "markdown",
   "id": "ffbd1e2d",
   "metadata": {},
   "source": [
    "# Title: NIHAO – XXII. Introducing black hole formation, accretion, and feedback into the NIHAO simulation suite"
   ]
  },
  {
   "cell_type": "markdown",
   "id": "6ee29274",
   "metadata": {},
   "source": [
    "### Authors: Marvin Blank, Andrea V. Maccio, Aaron A. Dutton, and Aura Obreja"
   ]
  },
  {
   "cell_type": "markdown",
   "id": "4201b984",
   "metadata": {},
   "source": [
    "## Citation: [Blank et al. (2019), MNRAS](https://academic.oup.com/mnras/article/487/4/5476/5520819?login=true)\n",
    "\n",
    "```\n",
    "@article{RN22,\n",
    "   author = {Blank, Marvin and Macciò, Andrea V and Dutton, Aaron A and Obreja, Aura},\n",
    "   title = {NIHAO – XXII. Introducing black hole formation, accretion, and feedback into the NIHAO simulation suite},\n",
    "   journal = {Monthly Notices of the Royal Astronomical Society},\n",
    "   volume = {487},\n",
    "   number = {4},\n",
    "   pages = {5476-5489},\n",
    "   ISSN = {0035-8711},\n",
    "   DOI = {10.1093/mnras/stz1688},\n",
    "   year = {2019},\n",
    "   type = {Journal Article}\n",
    "}\n",
    "```\n"
   ]
  },
  {
   "cell_type": "markdown",
   "id": "564d04e2",
   "metadata": {},
   "source": [
    "## Abstract\n",
    "\n",
    "\n",
    "We introduce algorithms for black hole physics, i.e. black hole formation, accretion, and feedback, into the Numerical Investigation of a Hundred Astrophysical Objects (NIHAO) project of galaxy simulations. This enables us to study high mass, elliptical galaxies, where feedback from the central black hole is generally thought to have a significant effect on their evolution.\n",
    "\n",
    "\n",
    "In this paper we focus on testing the algorithms and calibrating their free parameters against the stellar mass versus halo mass relation and the black hole mass versus stellar mass relation.\n",
    "\n",
    "\n",
    "For our fiducial choice of parameters we successfully quench star formation in objects above a $z = 0$ halo mass of $10^{12} M_\\odot$, thus transforming them into red and dead galaxies."
   ]
  },
  {
   "cell_type": "markdown",
   "id": "7a1e05d7",
   "metadata": {},
   "source": [
    "## 1. Introdution\n",
    "\n",
    "The general idea outlined by Di Matteo, Springel & Hernquist (2005) is that feedback provided by the central black hole heats the galaxy’s gas and subsequently quenches star formation and further black hole accretion, transforming it into a ‘red and dead’ elliptical galaxy.\n",
    "\n",
    "The NIHAO project (Wang et al. 2015) is a suite of hydrodynamical cosmological zoom-in simulations of galaxies and is unique in combining (i) a high resolution of ∼$10^6$ particles per halo, (ii) a large range of halo masses from dwarf to Milky Way masses ($\\sim 5 × 10^9$ to $\\sim 2 × 10^{12} M_\\odot$), and (iii) a large sample size of ∼100 galaxies.\n",
    "\n",
    "We focus on the testing of the algorithms and the calibration of the free parameters on the observed stellar mass versus halo mass and black hole mass versus stellar mass relations, and also investigate how the scatter of these relations evolve with time and compare with observations."
   ]
  },
  {
   "attachments": {},
   "cell_type": "markdown",
   "id": "0de5fecd",
   "metadata": {},
   "source": [
    "## 2. The NIHAO Project\n",
    "\n",
    "\n",
    "### NIHAO Simulation\n",
    "\n",
    "- TreeSPH code gasoline2\n",
    "\n",
    "- use a flat LCDM cosmology with parameters from the Planck Collaboration XVI\n",
    "\n",
    "\n",
    "The backbone of the NIHAO project consists of cosmological dark matter-only simulations with box sizes of 60 and 20 Mpc h−1 from Dutton & Maccio (2014), and a new box of 15 Mpc h−1 with 400^3 particles. These are evolved until z = 0, then haloes from these boxes are selected and resimulated individually with a higher resolution and with gas particles.\n",
    "\n",
    "same relative resolution\n",
    "softening lengths\n",
    "The free parameters of the stellar and supernova feedback model have been chosen to match the M⋆–M200 relation for one Milky Way-like galaxy at z = 0.\n",
    "\n",
    "Cooling\n",
    "\n",
    "Star formation\n",
    "\n",
    "Supernova feedback\n",
    "\n",
    "NIHAO has been very successful in reproducing galaxy properties for halo masses of M200 ≤ 2 × 10^12 M⊙\n",
    "\t- stellar mass versus halo mass relation\n",
    "\t- galaxy velocity function\n",
    "\t- Tully–Fisher relation\n",
    "\t- rotation curves of dwarf galaxies\n"
   ]
  },
  {
   "attachments": {},
   "cell_type": "markdown",
   "id": "d54dd308",
   "metadata": {},
   "source": [
    "## 3. COMPUTATIONAL METHODS FOR BLACK HOLE PHYSICS\n",
    "\n",
    "\n",
    "Black holes are modelled as sink particles\n",
    "\t- introduced by Springel, Di Matteo & Hernquist (2005)\n",
    "\n",
    "\n",
    "3.1 Black hole formation\n",
    "\n",
    "When a central halo exceeds a threshold mass M_h,t we convert the gas particle (or a part thereof) with the lowest gravitational potential into a black hole with seed mass M_BH,s.\n",
    "\t- AMIGA Halo Finder\n",
    "\t- M_BH,s = 1 × 10^5 and M_h,t = 5 × 10^10 M⊙\n",
    "\n",
    "\n",
    "3.2 Black hole relocation\n",
    "\n",
    "In galaxy-scale simulations two effects can lead the position of the black hole not to coincide with the halo centre.\n",
    "\t- \n",
    "\t- \n",
    "\n",
    "To compensate for these effects a number of models have been developed in the last years.\n",
    "\n",
    "To avoid these problems every major time-step we set the position and velocity of the black hole to the values of the dark matter particle within 10 softening lengths that has the lowest gravitational potential.\n",
    "(The simulation time of 13.8 Gyr is divided into 1024 major time-steps of 13.4 Myr.)\n",
    "\n",
    "\n",
    "\n",
    "3.3 Black hole merging\n",
    "when their distance is smaller than the sum of their softening lengths.\n",
    "\n",
    "\n",
    "3.4 Black hole accretion\n",
    "\n",
    "Bondi–Hoyle–Lyttleton parametrization\n",
    "\t- limited by the Eddington rate\n",
    "\t\n",
    "If a gas particle’s mass falls below 20 per cent of its initial mass it is deleted and its mass and momentum are distributed among the surrounding gas particles weighted with the SPH kernel.\n",
    "\n",
    "To avoid too large accelerations and thus too small time-steps of particles close to the black hole, as well as two-body relaxation, we increase the black hole softening length as it grows.\n",
    "\n",
    "Increasing the softening length of the black hole does not significantly affect its surroundings, as its gravitational force is usually much smaller than the gravitational force of the stars surrounding the centre.\n",
    "\n",
    "Alternative methods to model gas accretion on to black holes have been developed.\n",
    "\n",
    "\n",
    "3.5 Black hole feedback\n",
    "\n",
    "Luminosity\n",
    "gas receives energy per time\n",
    "\t- distributed kernel weighted among the 50 nearest gas particles.\n"
   ]
  },
  {
   "attachments": {},
   "cell_type": "markdown",
   "id": "f4cd1fdd",
   "metadata": {},
   "source": [
    "4 INITIAL CONDITIONS, GALAXY PROPERTIES, AND PARAMETERS\n",
    "\n",
    "The name of a galaxy refers to its halo mass at z = 0 from the cosmological dark matter-only simulations, i.e. its halo mass in the simulations presented in this paper might be slightly different.\n",
    "\n",
    "The stellar mass M⋆ of a galaxy is defined as the combined mass of all stellar particles within a radius of r_gal = 0.2 R_200\n",
    "\n",
    "In total we have 50 galaxies with black hole feedback and 11 galaxies without black hole feedback in this paper.\n"
   ]
  },
  {
   "attachments": {},
   "cell_type": "markdown",
   "id": "831ec9b9",
   "metadata": {},
   "source": [
    "5 RESULTS\n",
    "\n",
    "Therefore we use the galaxy’s stellar mass and black hole mass to gauge our model, and thus use the stellar mass versus halo mass (M⋆ –M_200 ) relation and the black hole mass versus stellar mass (M_BH –M⋆ ) relation for calibration.\n",
    "\n",
    "(Figures)\n"
   ]
  },
  {
   "attachments": {},
   "cell_type": "markdown",
   "id": "615979ac",
   "metadata": {},
   "source": [
    "7 SUMMARY"
   ]
  }
 ],
 "metadata": {
  "kernelspec": {
   "display_name": "Python 3 (ipykernel)",
   "language": "python",
   "name": "python3"
  },
  "language_info": {
   "codemirror_mode": {
    "name": "ipython",
    "version": 3
   },
   "file_extension": ".py",
   "mimetype": "text/x-python",
   "name": "python",
   "nbconvert_exporter": "python",
   "pygments_lexer": "ipython3",
   "version": "3.9.7"
  }
 },
 "nbformat": 4,
 "nbformat_minor": 5
}
