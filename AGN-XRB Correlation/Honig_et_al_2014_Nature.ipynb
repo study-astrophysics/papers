{
 "cells": [
  {
   "cell_type": "markdown",
   "id": "998303b9",
   "metadata": {},
   "source": [
    "# Title: A dust-parallax distance of 19 megaparsecs to the supermassive black hole in NGC 4151"
   ]
  },
  {
   "cell_type": "markdown",
   "id": "f044f117",
   "metadata": {},
   "source": [
    "### Authors: Sebastian F. Honig, Darach Watson, Makoto Kishimoto & Jens Hjorth"
   ]
  },
  {
   "cell_type": "markdown",
   "id": "3c760a99",
   "metadata": {},
   "source": [
    "## Citations: [Honig et al. 2014, Nature](https://www.nature.com/articles/nature13914)\n"
   ]
  },
  {
   "cell_type": "markdown",
   "id": "a4d60755",
   "metadata": {},
   "source": [
    "## Abstract"
   ]
  },
  {
   "attachments": {},
   "cell_type": "markdown",
   "id": "908602a3",
   "metadata": {},
   "source": [
    "- Black hole mass measurements based on **emission line reverberation mapping** can be calibrated against other dynamical techniques.\n",
    " - (dust-parallax distance) x 1.4\n",
    " - corresponding correction to emission line reverberation masses of BH\n",
    "\n",
    "\n",
    "- NGC4151's distance\n",
    " - Using the redshift: $4-29$ Mpc\n",
    "   - Strong peculiar motion (used in measuring the redshift) makes the uncertainty\n",
    "   - Needs the more accurate measurement\n",
    "\n",
    "\n",
    "- Using the dust-parallax distance: $19.0^{+ 2.4}_{-2.6}$ Mpc\n",
    " - Determined from time delays\n",
    "   - Adaptation of a geometric model\n",
    " - Use the emission line regions of active galaxies \n",
    "   - But, the emission line regions are too small\n",
    " - The ratio of physical and angular sizes of the more extended hot-dust emission as determined from time delay and infrared interferometry"
   ]
  },
  {
   "cell_type": "markdown",
   "id": "636085dc",
   "metadata": {},
   "source": [
    "## Summary"
   ]
  },
  {
   "cell_type": "markdown",
   "id": "caef8688",
   "metadata": {},
   "source": [
    "### Time lag $\\tau$\n",
    "- can be converted into a physical size using\n",
    "\n",
    "$$ \\large R_\\tau = \\tau c $$\n",
    "\n",
    "\n",
    "where\n",
    "\n",
    "- $c$: speed of light."
   ]
  },
  {
   "cell_type": "markdown",
   "id": "936a74a1",
   "metadata": {},
   "source": [
    "What about the size?\n",
    "\n",
    "k, V-band, ...\n",
    "\n",
    "- disk model\n",
    " - dust is heated by AGN radiation and the projected brightness distribution is represented by the power-law\n",
    " \n",
    "$$ \\large S(r) \\propto r^\\alpha $$\n",
    "\n",
    " - successfully applied to AGN NGC4151\n",
    " \n",
    "- Common size $r_\\text{in}$\n",
    "    - inner radius of the brightness distribution\n",
    "    - reference time lag $ \\tau_\\text{in}  = \\frac{r_\\text{in}}{c}$\n",
    "    - angualr size $\\rho_\\text{in} \\simeq \\frac{r_\\text{in}}{D_A} $\n",
    "    \n",
    "    \n",
    "- Inclination, orientation: observational constraints\n",
    "- sublimation temperature\n",
    "    - does not affect the distance determination\n",
    "    - because it scales in the same way for the reference angular size and referece time lags"
   ]
  }
 ],
 "metadata": {
  "kernelspec": {
   "display_name": "Python 3 (ipykernel)",
   "language": "python",
   "name": "python3"
  },
  "language_info": {
   "codemirror_mode": {
    "name": "ipython",
    "version": 3
   },
   "file_extension": ".py",
   "mimetype": "text/x-python",
   "name": "python",
   "nbconvert_exporter": "python",
   "pygments_lexer": "ipython3",
   "version": "3.8.2"
  }
 },
 "nbformat": 4,
 "nbformat_minor": 5
}
