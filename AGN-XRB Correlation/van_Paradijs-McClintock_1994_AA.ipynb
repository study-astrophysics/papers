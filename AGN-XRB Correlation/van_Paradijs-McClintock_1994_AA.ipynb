{
 "cells": [
  {
   "cell_type": "markdown",
   "id": "a3a25bc7",
   "metadata": {},
   "source": [
    "# Title: Absolute visual magnitudes of low-mass X-ray binaries"
   ]
  },
  {
   "cell_type": "markdown",
   "id": "1ffe6786",
   "metadata": {},
   "source": [
    "### Authors: van Paradijs, J. & McClintock, J. E."
   ]
  },
  {
   "cell_type": "markdown",
   "id": "770d74d0",
   "metadata": {},
   "source": [
    "## Citation: [van Paradijs & McClintock 1994, A&A](https://ui.adsabs.harvard.edu/abs/1994A%26A...290..133V/abstract)\n",
    "\n",
    "\n",
    "```\n",
    "   @article{RN5,\n",
    "   author = {van Paradijs, J. and McClintock, J. E.},\n",
    "   title = {Absolute visual magnitudes of low-mass X-ray binaries},\n",
    "   journal = {Astronomy and Astrophysics},\n",
    "   volume = {290},\n",
    "   pages = {133},\n",
    "   note = {(abstract)},\n",
    "   keywords = {STARS: BINARIES: CLOSE\n",
    "NEUTRON\n",
    "DISTANCES\n",
    "X-RAYS: STARS},\n",
    "   ISSN = {0004-6361},\n",
    "   url = {https://ui.adsabs.harvard.edu/abs/1994A&A...290..133V},\n",
    "   year = {1994},\n",
    "   type = {Journal Article}\n",
    "}\n",
    "```"
   ]
  },
  {
   "cell_type": "markdown",
   "id": "69062846",
   "metadata": {},
   "source": [
    "## Abstract"
   ]
  },
  {
   "cell_type": "markdown",
   "id": "32710dcd",
   "metadata": {},
   "source": [
    "- Visual magnitude for 18 low-mass X-ray binaries\n",
    "- Simple model for optical emission\n",
    " - X-ray from central source $\\rightarrow$ reprocessed in an accretion disk\n",
    " \n",
    "$$ \\large L_V \\propto L^{1/2}_X R $$\n",
    "\n",
    "- $-5 < L_V < 5$: due to large range in the X-ray luminosity & size of disk"
   ]
  },
  {
   "cell_type": "markdown",
   "id": "4848adee",
   "metadata": {},
   "source": [
    "## 1. Introduction"
   ]
  },
  {
   "cell_type": "markdown",
   "id": "baf65238",
   "metadata": {},
   "source": [
    "### Low mass X-ray Binaries (LMXB)\n",
    "- X-ray burst source\n",
    "- Soft X-ray transient\n",
    "- Much fainter in the optical"
   ]
  },
  {
   "cell_type": "markdown",
   "id": "acdc76c8",
   "metadata": {},
   "source": [
    "### In this research,\n",
    "- They derived the distance and the magnitude of the LMXBs\n",
    " - Absolute magnitude $ -5 < M_V < 5$\n",
    "- Optical emission is dominated by **reprocessing** of X-rays in the accretion disk\n",
    " - $M_V$ as a result of differences in X-ray luminosity and the size"
   ]
  },
  {
   "cell_type": "markdown",
   "id": "8ff44eda",
   "metadata": {},
   "source": [
    "## 2. Observational Data"
   ]
  },
  {
   "cell_type": "markdown",
   "id": "e3584fd6",
   "metadata": {},
   "source": [
    "### Absolute magnitude\n",
    "- Can be calculated using\n",
    " - Apparent magnitude\n",
    " - Interstellar reddening\n",
    " - Spectral type\n",
    " - Distance"
   ]
  },
  {
   "cell_type": "markdown",
   "id": "293794a0",
   "metadata": {},
   "source": [
    "### How to measure the distance\n",
    "\n",
    "#### (i) LMXB in stellar systems at known distance\n",
    "- HR-diagram\n",
    "- PL relations for Cepheids\n",
    "\n",
    "#### (ii) X-ray burst sources show bursts with photospheric radius expansion\n",
    "- The luminosity has a limit\n",
    " - Eddington luminosity\n",
    "  - Can be used as a standard candle\n",
    "  \n",
    "#### (iii) Soft X-ray transients (SXT)\n",
    "- At maximum light $\\simeq$ persistent LMXB\n",
    "- If the orbital period is not known.\n",
    "\n",
    "$$ \\large M_V = M_{V,2} + V_{max} - V_{min} $$\n",
    "\n",
    "where\n",
    "\n",
    "- $M_{V,2}$: standard relation between the spectral type (Main-sequence) and the absolute magnitude\n",
    "\n",
    "- If the orbital period is known.\n",
    " - Using Kepler's law and the ratio of the average radius, $R_2$ of the secondary Roche lobe to the orbital separation $a$.\n",
    " \n",
    "$$ \\large 4 \\pi R^3_2 = 0.10 GM_2 P^2 $$\n",
    "\n",
    "#### (iv) Z sources\n",
    "\n",
    "and so on..."
   ]
  },
  {
   "cell_type": "markdown",
   "id": "f2275007",
   "metadata": {},
   "source": [
    "## 3. Discussion"
   ]
  },
  {
   "cell_type": "markdown",
   "id": "a3ef0277",
   "metadata": {},
   "source": [
    "- Burst sources are fainter than those of non-bursting sources \n",
    " - 1~10% $L_{Edd}$ \n",
    " \n",
    "\n",
    "- Optical region has something to do with the size of the accretion disk\n",
    "\n",
    "$$ \\large L_V = \\sum S_i A_i \\cos \\phi_i $$\n",
    "\n",
    "where\n",
    "\n",
    "- $S_i$: surface brightness of surface element i\n",
    "- $A_i$: area of the surface element ($\\propto a^2$)\n",
    "- $\\phi_i$: angle between the line of sight and the normal to the surface element"
   ]
  },
  {
   "cell_type": "markdown",
   "id": "77467e6c",
   "metadata": {},
   "source": [
    "#### Assumption: the surface element is a black body (emission is isotropic)\n",
    "\n",
    "$$ \\large \\sigma T^4_i = (1-\\epsilon) L_X \\frac{\\cos \\xi_i}{4 \\pi d^2_i} $$\n",
    "\n",
    "where\n",
    "\n",
    "- $\\epsilon$: X-ray albedo\n",
    "- $L_X$: X-ray luminosity\n",
    "- $\\xi_i$: angle between the normal to the surface element and the line connecting the surface element to the X-ray source\n",
    "\n",
    "\n",
    "#### Temperature is dominated by the impinging X-rays from the central source.\n",
    "\n",
    "Using\n",
    "\n",
    "$$ \\large d_i = a \\rho_i $$\n",
    "\n",
    "where\n",
    "\n",
    "- $\\rho_i$: corresponding distance between the central source and the surface element\n",
    "\n",
    "\n",
    "#### Thus,\n",
    "\n",
    "$$ \\large \\sigma T^4_i = \\frac{(1-\\epsilon) \\cos \\xi_i}{4\\pi\\rho^2_i} \\frac{L_X}{a^2} $$\n",
    "\n",
    "\n",
    "#### Also, using the surface brightness $S_V$\n",
    "\n",
    "Since \n",
    "\n",
    "$$ \\large S_V \\propto T^\\alpha, \\quad \\alpha \\sim 2 $$\n",
    "\n",
    "$$ \\large L_V \\propto L^{1/2}_X a \\sum w_i \\cos \\xi_i \\frac{\\cos \\phi_i}{4\\pi \\rho^2_i} $$\n",
    "\n",
    "Note that $\\sum w_i \\cos \\xi_i \\frac{\\cos \\phi_i}{4\\pi \\rho^2_i}$ is independent of the size of the disk.\n",
    "\n",
    "#### Therefore,\n",
    "\n",
    "$$ \\large \\boxed{ L_V \\propto L^{1/2}_X a \\propto L^{1/2}_X P^{2/3} } $$"
   ]
  }
 ],
 "metadata": {
  "kernelspec": {
   "display_name": "Python 3 (ipykernel)",
   "language": "python",
   "name": "python3"
  },
  "language_info": {
   "codemirror_mode": {
    "name": "ipython",
    "version": 3
   },
   "file_extension": ".py",
   "mimetype": "text/x-python",
   "name": "python",
   "nbconvert_exporter": "python",
   "pygments_lexer": "ipython3",
   "version": "3.8.2"
  }
 },
 "nbformat": 4,
 "nbformat_minor": 5
}
