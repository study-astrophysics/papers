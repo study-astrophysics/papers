{
 "cells": [
  {
   "cell_type": "markdown",
   "id": "a3a25bc7",
   "metadata": {},
   "source": [
    "# Title: Absolute visual magnitudes of low-mass X-ray binaries"
   ]
  },
  {
   "cell_type": "markdown",
   "id": "1ffe6786",
   "metadata": {},
   "source": [
    "### Authors: van Paradijs, J. & McClintock, J. E."
   ]
  },
  {
   "cell_type": "markdown",
   "id": "770d74d0",
   "metadata": {},
   "source": [
    "## Citation: [van Paradijs & McClintock 1994, A&A](https://ui.adsabs.harvard.edu/abs/1994A%26A...290..133V/abstract)"
   ]
  },
  {
   "cell_type": "markdown",
   "id": "69062846",
   "metadata": {},
   "source": [
    "## Abstract"
   ]
  },
  {
   "cell_type": "markdown",
   "id": "32710dcd",
   "metadata": {},
   "source": [
    "- Visual magnitude for 18 low-mass X-ray binaries\n",
    "- Simple model for optical emission\n",
    " - X-ray from central source $\\rightarrow$ reprocessed in an accretion disk\n",
    " \n",
    "$$ \\large L_V \\propto L^{1/2}_X R $$\n",
    "\n",
    "- $-5 < L_V < 5$: due to large range in the X-ray luminosity & size of disk"
   ]
  },
  {
   "cell_type": "markdown",
   "id": "4848adee",
   "metadata": {},
   "source": [
    "## 1. Introduction"
   ]
  },
  {
   "cell_type": "markdown",
   "id": "baf65238",
   "metadata": {},
   "source": []
  },
  {
   "cell_type": "code",
   "execution_count": null,
   "id": "f36a96df",
   "metadata": {},
   "outputs": [],
   "source": []
  }
 ],
 "metadata": {
  "kernelspec": {
   "display_name": "Python 3 (ipykernel)",
   "language": "python",
   "name": "python3"
  },
  "language_info": {
   "codemirror_mode": {
    "name": "ipython",
    "version": 3
   },
   "file_extension": ".py",
   "mimetype": "text/x-python",
   "name": "python",
   "nbconvert_exporter": "python",
   "pygments_lexer": "ipython3",
   "version": "3.8.2"
  }
 },
 "nbformat": 4,
 "nbformat_minor": 5
}
